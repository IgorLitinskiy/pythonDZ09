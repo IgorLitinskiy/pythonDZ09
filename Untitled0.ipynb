{
  "cells": [
    {
      "cell_type": "code",
      "execution_count": 2,
      "metadata": {
        "id": "34v94KrA8SqQ"
      },
      "outputs": [],
      "source": [
        "import pandas as pd"
      ]
    },
    {
      "cell_type": "code",
      "execution_count": 14,
      "metadata": {
        "id": "aT3S3QFdGgFI"
      },
      "outputs": [],
      "source": [
        "df = pd.read_csv('sample_data/california_housing_train.csv')"
      ]
    },
    {
      "cell_type": "markdown",
      "metadata": {
        "id": "Wa9XmI-2LPbQ"
      },
      "source": [
        "Задача 40:Определить среднюю стоимость дома, где кол-во людей от 0 до 500 (population)"
      ]
    },
    {
      "cell_type": "code",
      "execution_count": null,
      "metadata": {
        "colab": {
          "base_uri": "https://localhost:8080/",
          "height": 423
        },
        "id": "jADnX_TwJM0I",
        "outputId": "2e7a56d5-0f07-46be-8dd8-68bfe24a8ba2"
      },
      "outputs": [],
      "source": [
        "df[df['population']<500]"
      ]
    },
    {
      "cell_type": "code",
      "execution_count": null,
      "metadata": {
        "colab": {
          "base_uri": "https://localhost:8080/"
        },
        "id": "_IMI3jh2J_Hf",
        "outputId": "f0b36a1c-c4a3-42d5-cba0-f759087a00bf"
      },
      "outputs": [],
      "source": [
        "df[df['population']<500]['median_house_value'].agg(['mean'])"
      ]
    },
    {
      "cell_type": "markdown",
      "metadata": {
        "id": "M6DgNicYLqEX"
      },
      "source": [
        "Задача 42: Узнать какая максимальная households в зоне минимального значения (population)"
      ]
    },
    {
      "cell_type": "code",
      "execution_count": null,
      "metadata": {
        "colab": {
          "base_uri": "https://localhost:8080/"
        },
        "id": "sNSHvBhZLveU",
        "outputId": "ac1b5f76-84d1-4153-fa07-2d309304b0a9"
      },
      "outputs": [],
      "source": [
        "df[df['population']==df['population'].min()]['households'].agg(['max'])"
      ]
    }
  ],
  "metadata": {
    "colab": {
      "provenance": []
    },
    "kernelspec": {
      "display_name": "Python 3",
      "name": "python3"
    },
    "language_info": {
      "name": "python"
    }
  },
  "nbformat": 4,
  "nbformat_minor": 0
}
